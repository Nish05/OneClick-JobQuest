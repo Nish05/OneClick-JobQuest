{
 "cells": [
  {
   "cell_type": "code",
   "execution_count": 1,
   "metadata": {
    "collapsed": true
   },
   "outputs": [],
   "source": [
    "import pymongo as mongo\n",
    "import scipy as sp\n",
    "from scipy import stats\n",
    "import pandas as pd"
   ]
  },
  {
   "cell_type": "code",
   "execution_count": 2,
   "metadata": {
    "collapsed": true
   },
   "outputs": [],
   "source": [
    "con = mongo.MongoClient(host='127.0.0.1', port=3001)\n",
    "db = con['meteor']\n",
    "cleanResume_stem_test = db['cleanResume_stem_test']\n",
    "cleanPostings_stem_test = db['cleanPostings_stem_test']\n",
    "resumes = cleanResume_stem_test.find()\n",
    "postings = cleanPostings_stem_test.find()\n",
    "generateRanks = []\n",
    "dataframes = []"
   ]
  },
  {
   "cell_type": "code",
   "execution_count": 3,
   "metadata": {
    "collapsed": true
   },
   "outputs": [],
   "source": [
    "def checkElements(pContent, rContent):\n",
    "    pContent.sort()\n",
    "    rContent.sort()\n",
    "    i = 0 \n",
    "    j = 0\n",
    "    pLen = len(pContent)\n",
    "    rLen = len(rContent)\n",
    "    score = 0\n",
    "    \n",
    "    while( i < pLen and j < rLen):\n",
    "        if(pContent[i] < rContent[j]): i = i+1\n",
    "        elif(pContent[i] > rContent[j]): j= j+1\n",
    "        else : \n",
    "            score += 1\n",
    "            i = i+1\n",
    "            j = j+1\n",
    "            \n",
    "    return score"
   ]
  },
  {
   "cell_type": "code",
   "execution_count": 4,
   "metadata": {
    "collapsed": true
   },
   "outputs": [],
   "source": [
    "def insertNameScore(score, name, rName, rScore):\n",
    "    i = 0\n",
    "#     print(score)\n",
    "#     print(name)\n",
    "    length = len(rScore)\n",
    "    if(length == 0):\n",
    "        rScore.append(score)\n",
    "        rName.append(name)\n",
    "        return rScore,rName\n",
    "    \n",
    "    while( i < length-1 ):\n",
    "        if(rScore[i] > score):\n",
    "            rScore = rScore[:i] + [score] + rScore[i:]\n",
    "            rName = rName[:i] + [name] + rName[i:]\n",
    "            \n",
    "        elif(rScore[i] <= score and rScore[i+1] >= score):\n",
    "            rScore = rScore[:i] + [score] + rScore[i+1:]\n",
    "            rName = rName[:i] + [name] + rName[i+1:]\n",
    "        i = i+1\n",
    "            \n",
    "    return rScore, rName\n",
    "    "
   ]
  },
  {
   "cell_type": "code",
   "execution_count": 5,
   "metadata": {},
   "outputs": [
    {
     "name": "stdout",
     "output_type": "stream",
     "text": [
      "[{'TrueChoice Solutions-Junior Full Stack Developer': 1, 'UniversalGiving-Website Architecture/Backend Engineer (Python)': 2, 'Squarespace-Software Engineer - Business Applications': 3, 'Pivotal Software-Software Engineer- Pivotal Labs (NYC)': 4, 'Numerix-Software Developer': 5, 'Getty Images-Software Engineer': 6, 'Cisco-Software Engineer, Backend': 7, 'Squarespace-Software Engineer - Product Backend': 8, 'Braze-Software Engineer, Internal Tools': 9, 'Google-Software Engineer': 10, 'SRC, Inc.-Software Engineer (Junior)': 11, 'JP Morgan Chase-Software Engineer': 12, 'Business Insider, Inc.-Backend ': 13, 'Twitter-Software Engineer': 14, 'Grubhub-Summer Developer Intern': 15, 'Splunk-Software Engineer - Full Stack': 16, 'The Metro Group, Inc.-Entry Level- Web Report Developer': 17, 'RAB Lighting-Jr. Software Developer': 18, 'Expedia-Software Dev Engineer I': 19, 'Dow Jones-Summer 2018 Technology Internship': 20}, {'TrueChoice Solutions-Junior Full Stack Developer': 1, 'UniversalGiving-Website Architecture/Backend Engineer (Python)': 2, 'Squarespace-Software Engineer - Business Applications': 3, 'Pivotal Software-Software Engineer- Pivotal Labs (NYC)': 4, 'Numerix-Software Developer': 5, 'Google-Software Engineer': 6, 'Cisco-Software Engineer, Backend': 7, 'Twitter-Software Engineer': 8, 'Grubhub-Summer Developer Intern': 9, 'Getty Images-Software Engineer': 10, 'Splunk-Software Engineer - Full Stack': 11, 'RAB Lighting-Jr. Software Developer': 12, 'Expedia-Software Dev Engineer I': 13, 'The Metro Group, Inc.-Entry Level- Web Report Developer': 14, 'Squarespace-Software Engineer - Product Backend': 15, 'SRC, Inc.-Software Engineer (Junior)': 16, 'Braze-Software Engineer, Internal Tools': 17, 'JP Morgan Chase-Software Engineer': 18, 'Business Insider, Inc.-Backend ': 19, 'Dow Jones-Summer 2018 Technology Internship': 20}, {'TrueChoice Solutions-Junior Full Stack Developer': 1, 'UniversalGiving-Website Architecture/Backend Engineer (Python)': 2, 'Squarespace-Software Engineer - Business Applications': 3, 'Getty Images-Software Engineer': 4, 'Pivotal Software-Software Engineer- Pivotal Labs (NYC)': 5, 'Numerix-Software Developer': 6, 'JP Morgan Chase-Software Engineer': 7, 'Business Insider, Inc.-Backend ': 8, 'Google-Software Engineer': 9, 'Cisco-Software Engineer, Backend': 10, 'Squarespace-Software Engineer - Product Backend': 11, 'SRC, Inc.-Software Engineer (Junior)': 12, 'Braze-Software Engineer, Internal Tools': 13, 'Twitter-Software Engineer': 14, 'The Metro Group, Inc.-Entry Level- Web Report Developer': 15, 'Splunk-Software Engineer - Full Stack': 16, 'RAB Lighting-Jr. Software Developer': 17, 'Grubhub-Summer Developer Intern': 18, 'Expedia-Software Dev Engineer I': 19, 'Dow Jones-Summer 2018 Technology Internship': 20}, {'TrueChoice Solutions-Junior Full Stack Developer': 1, 'UniversalGiving-Website Architecture/Backend Engineer (Python)': 2, 'Squarespace-Software Engineer - Business Applications': 3, 'Getty Images-Software Engineer': 4, 'Pivotal Software-Software Engineer- Pivotal Labs (NYC)': 5, 'Numerix-Software Developer': 6, 'Cisco-Software Engineer, Backend': 7, 'Google-Software Engineer': 8, 'JP Morgan Chase-Software Engineer': 9, 'Business Insider, Inc.-Backend ': 10, 'Squarespace-Software Engineer - Product Backend': 11, 'Braze-Software Engineer, Internal Tools': 12, 'Twitter-Software Engineer': 13, 'SRC, Inc.-Software Engineer (Junior)': 14, 'Grubhub-Summer Developer Intern': 15, 'Splunk-Software Engineer - Full Stack': 16, 'RAB Lighting-Jr. Software Developer': 17, 'Expedia-Software Dev Engineer I': 18, 'The Metro Group, Inc.-Entry Level- Web Report Developer': 19, 'Dow Jones-Summer 2018 Technology Internship': 20}, {'UniversalGiving-Website Architecture/Backend Engineer (Python)': 1, 'Squarespace-Software Engineer - Business Applications': 2, 'TrueChoice Solutions-Junior Full Stack Developer': 3, 'Pivotal Software-Software Engineer- Pivotal Labs (NYC)': 4, 'Numerix-Software Developer': 5, 'Getty Images-Software Engineer': 6, 'Cisco-Software Engineer, Backend': 7, 'SRC, Inc.-Software Engineer (Junior)': 8, 'Google-Software Engineer': 9, 'Twitter-Software Engineer': 10, 'JP Morgan Chase-Software Engineer': 11, 'Grubhub-Summer Developer Intern': 12, 'Business Insider, Inc.-Backend ': 13, 'Splunk-Software Engineer - Full Stack': 14, 'The Metro Group, Inc.-Entry Level- Web Report Developer': 15, 'RAB Lighting-Jr. Software Developer': 16, 'Expedia-Software Dev Engineer I': 17, 'Squarespace-Software Engineer - Product Backend': 18, 'Braze-Software Engineer, Internal Tools': 19, 'Dow Jones-Summer 2018 Technology Internship': 20}, {'TrueChoice Solutions-Junior Full Stack Developer': 1, 'UniversalGiving-Website Architecture/Backend Engineer (Python)': 2, 'Squarespace-Software Engineer - Business Applications': 3, 'Pivotal Software-Software Engineer- Pivotal Labs (NYC)': 4, 'Numerix-Software Developer': 5, 'Getty Images-Software Engineer': 6, 'JP Morgan Chase-Software Engineer': 7, 'Business Insider, Inc.-Backend ': 8, 'Cisco-Software Engineer, Backend': 9, 'Twitter-Software Engineer': 10, 'Grubhub-Summer Developer Intern': 11, 'Splunk-Software Engineer - Full Stack': 12, 'SRC, Inc.-Software Engineer (Junior)': 13, 'Google-Software Engineer': 14, 'The Metro Group, Inc.-Entry Level- Web Report Developer': 15, 'Squarespace-Software Engineer - Product Backend': 16, 'Braze-Software Engineer, Internal Tools': 17, 'RAB Lighting-Jr. Software Developer': 18, 'Expedia-Software Dev Engineer I': 19, 'Dow Jones-Summer 2018 Technology Internship': 20}]\n"
     ]
    }
   ],
   "source": [
    "def intersectionEmp(resumes, postings):\n",
    "    rankedList =[]\n",
    "    rDocuments = list(resumes)\n",
    "    pDocuments = list(postings)\n",
    "    \n",
    "    for resume in rDocuments:\n",
    "        rContent = resume['Content']\n",
    "        name = resume['Name']\n",
    "        rLength = len(rContent)\n",
    "        i = 0     \n",
    "#         print('Candidate Name', name, 'Total keywords : ',rLength)\n",
    "        pName =[]\n",
    "        pScore=[]\n",
    "        spDict = {}\n",
    "        for posting in pDocuments:\n",
    "            pContent = posting['Description'].split()\n",
    "            pTitle = posting['Job-Title']\n",
    "            score = checkElements(pContent, rContent)\n",
    "            pName.append(pTitle)\n",
    "            pScore.append(score)\n",
    "#             print(i ,' ', name)\n",
    "            i = i + 1\n",
    "#         print('Posting : ', pTitle)\n",
    "        averageScore = []\n",
    "        for k in range (0,len(pName)):\n",
    "            averageScore.append((pScore[k]/rLength))\n",
    "            \n",
    "        spScore, spName = zip(*sorted(zip(averageScore, pName)))\n",
    "        spScore = spScore[::-1]\n",
    "        spName = spName[::-1]\n",
    "#         spScore = list(spScore).reverse()\n",
    "#         spName = list(spName).reverse()\n",
    "        \n",
    "        for l in range(0,len(spName)):\n",
    "            spDict[spName[l]] = l+1\n",
    "        \n",
    "#             print('Job Title : ',spName[l], 'Score :',spScore[l])\n",
    "#         print(spDict)\n",
    "        generateRanks.append(spDict)\n",
    "#             print('Posting : ',pTitle,' Resume : ',name, '-> Score :',score)\n",
    "intersectionEmp(resumes, postings)\n",
    "\n",
    "print(generateRanks)\n"
   ]
  },
  {
   "cell_type": "code",
   "execution_count": 10,
   "metadata": {},
   "outputs": [],
   "source": [
    "# org_rank = [1,2,4,6,7,9]\n",
    "# cal_rank = [4,2,9,6,2,1]\n",
    "def calculateKendallTau(org_rank, cal_rank):\n",
    "    tau, p_value = sp.stats.kendalltau(org_rank, cal_rank)\n",
    "    print(\"Tau : \", tau)\n",
    "    print(\"P_value : \", p_value)\n",
    "# calculateKendallTau(org_rank, cal_rank)"
   ]
  },
  {
   "cell_type": "code",
   "execution_count": 6,
   "metadata": {},
   "outputs": [],
   "source": [
    "def excelInMongoDB():\n",
    "    file = '/Users/Nish/Documents/Acadamic-RIT/Fall 2017/Project/Testing/Sample_Dataset_1.xls'\n",
    "    xl = pd.ExcelFile(file) \n",
    "    df1 = xl.parse('Krupa_Shah')\n",
    "    dataframes.append(df1)\n",
    "    df2 = xl.parse('Forum_Kapadia')\n",
    "    dataframes.append(df2)\n",
    "    df3 = xl.parse('Mansee_Jadhav')\n",
    "    dataframes.append(df3)\n",
    "    df4 = xl.parse('Vinay_More')\n",
    "    dataframes.append(df4)\n",
    "    df5 = xl.parse('Amrut_Shenoy')\n",
    "    dataframes.append(df5)    \n",
    "excelInMongoDB()"
   ]
  },
  {
   "cell_type": "code",
   "execution_count": 11,
   "metadata": {},
   "outputs": [
    {
     "name": "stdout",
     "output_type": "stream",
     "text": [
      "Tau :  -0.0736842105263\n",
      "P_value :  0.649670504381\n",
      "Tau :  0.115789473684\n",
      "P_value :  0.475366782952\n",
      "Tau :  0.0315789473684\n",
      "P_value :  0.845654661409\n",
      "Tau :  0.168421052632\n",
      "P_value :  0.29916899552\n",
      "Tau :  0.178947368421\n",
      "P_value :  0.269981281579\n"
     ]
    }
   ],
   "source": [
    "def rankingLists():\n",
    "    for i in range(0, (len(generateRanks)-1)):\n",
    "        currentDict = generateRanks[i]\n",
    "        currentDataframe = dataframes[i]\n",
    "        orgRanking = []\n",
    "        computedRanking = []\n",
    "        for index,row in currentDataframe.iterrows():\n",
    "            title = row['Job Title']\n",
    "            calrank = currentDict.get(title)\n",
    "            computedRanking.append(calrank)\n",
    "            orgRanking.append(row['Ranking'])\n",
    "        calculateKendallTau(orgRanking, computedRanking)\n",
    "            \n",
    "        \n",
    "        \n",
    "rankingLists()"
   ]
  },
  {
   "cell_type": "code",
   "execution_count": null,
   "metadata": {
    "collapsed": true
   },
   "outputs": [],
   "source": []
  }
 ],
 "metadata": {
  "kernelspec": {
   "display_name": "Python 3",
   "language": "python",
   "name": "python3"
  },
  "language_info": {
   "codemirror_mode": {
    "name": "ipython",
    "version": 3
   },
   "file_extension": ".py",
   "mimetype": "text/x-python",
   "name": "python",
   "nbconvert_exporter": "python",
   "pygments_lexer": "ipython3",
   "version": "3.6.1"
  }
 },
 "nbformat": 4,
 "nbformat_minor": 2
}
