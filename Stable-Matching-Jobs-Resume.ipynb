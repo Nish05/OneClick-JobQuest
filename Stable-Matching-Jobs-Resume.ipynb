{
 "cells": [
  {
   "cell_type": "code",
   "execution_count": 3,
   "metadata": {},
   "outputs": [
    {
     "name": "stdout",
     "output_type": "stream",
     "text": [
      "Resumes  Jobs\n",
      "4   2\n",
      "5   1\n",
      "6   3\n",
      "7   0\n"
     ]
    }
   ],
   "source": [
    "def checkHigherPreference(preferenceList, currentResume, newCandidate, oldCandidate):\n",
    "    for i in range(0, len(preferenceList[0])) :\n",
    "        if(preferenceList[currentResume][i] == oldCandidate) :\n",
    "            return True\n",
    "        if(preferenceList[currentResume][i] == newCandidate) :\n",
    "            return False"
   ]
  },
  {
   "cell_type": "code",
   "execution_count": 1,
   "metadata": {
    "collapsed": true
   },
   "outputs": [],
   "source": [
    "\n",
    "def stableMatch(preferenceList, candidates, total_job_resume):\n",
    "    resumes = [-1] * candidates\n",
    "    freeEmployers = [False] * candidates\n",
    "    \n",
    "    freeCount = candidates\n",
    "    while freeCount > 0 :\n",
    "        job = 0\n",
    "        for i in range (0, candidates) :\n",
    "            if (freeEmployers[i] == False) :\n",
    "                job = i \n",
    "                break\n",
    "  \n",
    "        for i in range (0, candidates) :\n",
    "        \n",
    "            if (freeEmployers[job] == True):\n",
    "                break\n",
    "            currentResume = preferenceList[job][i]\n",
    "            if (resumes[currentResume - candidates] == -1) :\n",
    "                    resumes[currentResume - candidates] = job\n",
    "                    freeEmployers[job] = True\n",
    "                    freeCount= freeCount - 1\n",
    "            else :\n",
    "                oldJob = resumes[currentResume - candidates]\n",
    "                otherPreference = checkHigherPreference(preferenceList,currentResume, job, oldJob)\n",
    "                if( otherPreference == False ) :\n",
    "                    resumes[currentResume - candidates] = job\n",
    "                    freeEmployers[job] = True\n",
    "                    freeEmployers[oldJob] = False\n",
    "    print(\"Resumes  Jobs\")               \n",
    "    for i in range(0, candidates):\n",
    "        print(i+candidates,\" \",resumes[i])\n",
    "                  "
   ]
  },
  {
   "cell_type": "code",
   "execution_count": 2,
   "metadata": {
    "collapsed": true
   },
   "outputs": [],
   "source": [
    "def main():\n",
    "    preferenceList = [[7, 5, 6, 4], [5, 4, 6, 7], [4, 5, 6, 7], [4, 5, 6, 7],\n",
    "                      [0, 1, 2, 3], [0, 1, 2, 3], [0, 1, 2, 3], [0, 1, 2, 3]]\n",
    "    stableMatch(preferenceList, len(preferenceList[0]), len(preferenceList))\n",
    "main()\n",
    "list_of_resume = {}"
   ]
  },
  {
   "cell_type": "code",
   "execution_count": null,
   "metadata": {
    "collapsed": true
   },
   "outputs": [],
   "source": []
  }
 ],
 "metadata": {
  "kernelspec": {
   "display_name": "Python 3",
   "language": "python",
   "name": "python3"
  },
  "language_info": {
   "codemirror_mode": {
    "name": "ipython",
    "version": 3
   },
   "file_extension": ".py",
   "mimetype": "text/x-python",
   "name": "python",
   "nbconvert_exporter": "python",
   "pygments_lexer": "ipython3",
   "version": "3.6.1"
  }
 },
 "nbformat": 4,
 "nbformat_minor": 2
}
