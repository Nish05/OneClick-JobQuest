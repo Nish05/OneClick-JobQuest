{
 "cells": [
  {
   "cell_type": "code",
   "execution_count": 1,
   "metadata": {
    "collapsed": true
   },
   "outputs": [],
   "source": [
    "import pymongo as mongo\n",
    "import PyPDF2 as pdfreader\n",
    "import pprint\n",
    "import glob, os\n",
    "import sys"
   ]
  },
  {
   "cell_type": "code",
   "execution_count": 2,
   "metadata": {
    "collapsed": true
   },
   "outputs": [],
   "source": [
    "def getPDFContent(path):\n",
    "    \"Extract text from PDF document\"\n",
    "    content = \"\"\n",
    "    p = open(path, \"rb\")\n",
    "    if ( not pdfreader.PdfFileReader(p).isEncrypted):\n",
    "        pdf = pdfreader.PdfFileReader(p)\n",
    "        content += pdf.getPage(0).extractText() + \"\\n\"\n",
    "        content = \" \".join(content.replace(u\"\\xa0\", \" \").strip().split())\n",
    "        return content    \n",
    "    else:\n",
    "        print(\"File is encrypted\")"
   ]
  },
  {
   "cell_type": "code",
   "execution_count": 3,
   "metadata": {
    "collapsed": true
   },
   "outputs": [],
   "source": [
    "def getFiles(dirPath):\n",
    "    rDocuments = []\n",
    "    for filename in os.listdir(dirPath):\n",
    "        if filename.endswith(\".pdf\"):\n",
    "            file = os.path.join(dirPath, filename)\n",
    "            pdfl = getPDFContent(file).encode(\"ascii\", \"ignore\")\n",
    "            print(type(pdfl))\n",
    "            rDocuments.append({'Name': filename[:-4],'Content': pdfl})\n",
    "    insertInDB(rDocuments)\n",
    "#             print(filename[:-4])\n",
    "#             print(pdfl)\n"
   ]
  },
  {
   "cell_type": "code",
   "execution_count": 4,
   "metadata": {
    "collapsed": true
   },
   "outputs": [],
   "source": [
    "def insertInDB(resumeDocument):\n",
    "    con = mongo.MongoClient(host='127.0.0.1', port=3001)\n",
    "    db = con['meteor']\n",
    "    resume_test = db['resume_test']\n",
    "    db.resume_test.insert_many(resumeDocument)\n",
    "        \n"
   ]
  },
  {
   "cell_type": "code",
   "execution_count": 5,
   "metadata": {},
   "outputs": [
    {
     "name": "stdout",
     "output_type": "stream",
     "text": [
      "<class 'bytes'>\n",
      "<class 'bytes'>\n",
      "<class 'bytes'>\n",
      "<class 'bytes'>\n",
      "<class 'bytes'>\n",
      "<class 'bytes'>\n"
     ]
    }
   ],
   "source": [
    "getFiles(sys.argv)\n",
    "getFiles(\"/Users/Nish/Documents/Acadamic-RIT/Fall 2017/Project/Resumes\")"
   ]
  },
  {
   "cell_type": "code",
   "execution_count": 6,
   "metadata": {},
   "outputs": [
    {
     "name": "stdout",
     "output_type": "stream",
     "text": [
      "KRUPASHAH_Resume53117, b'KRUPA SHAH kjs5335@g.rit.edu |krupashah036@gmail.com +1( 5 8 5) 309 - 7830 www.linkedin.com/in/shah - krupa EDUCATIONAL QUALIFICATIONS MS Information Sciences and Technologies |Rochester Institute of Technology | New York Expected: Dec 17 Courses : Dat a Warehousing (O LAP, OLTP, ETL, star schema , Pentaho), Information Retrieval (Text classification & clustering) , Se rver Side Programming ( SOAP, REST, PHP ) , Statistics , and Analytical Thinking (Machine learning tools, data mining , Neural Networ k) GPA: 3.33 B.E. Computer Engineering |Mumbai University |Mumbai, India - Courses : Data Struc tures and Files, Analysis of Algorithms and Design, Robotics and Artificial Intelligence , Advanced Database Management TECHNOLOGIES AND TOOLS Backend Languages | Frameworks: Java, PHP, R , C++ | JSP, Servlets , SpringMVC, Struts2 E - co mmerce Framework : SAP Hybris | Apache Sol r Web Development Technologies| Web Server : JavaScript, AJAX, HTML5, CSS3, XML, Google Analytics, SOAP/REST | Apache, Tomcat Databases| Tools : MS SQL, Oracle DB 10g, MongoDB , MySQL 5.1, Neo4j , PLSQL | SSIS, Pentaho, SAS , MATLAB, Minitab , Weka, Tableau PROFESSIONAL EXPERIENCE Tutor, RIT HEOP , Rochester, NY Feb - May 17 Tutored for MGIS - 330 Systems Analysis and Design course and ISTE - 121 Computer Problem Solving: Information Domain II . Imparted topics like File I/O, Threads Synchronization, Exceptions, Client/Server Programming, Domain Model, and Project Mgmt. S enior Software Engineer, IGATE Global Solutions (Capgemini India) Sep - Project D escription : A B2B e - commerce service with multi - channel approach bas ed on agile methodolog y with advance functionalities for mobile and desktop devices. Technologies : SAP Hybris ( 4.x & 5.x) , Struts, Spring MVC, JSP, AJAX, Apache S olr, Oracle Endeca, Apache Web Server, SSIS , SVN Responsible for full stack development of core functionality to consume ERP service s to display prices, error messages on web pages. Implement ed protocols to validate users and access rights for e - p rocurement systems like SAP Ariba and OCI at application end. Executed effective processes for web store migratio n and performed activities like B eanShell script for import a nd export of data, SQL queries, Solr search engine setup and optimization , integrat e d and validate d web - services, and content management s ystem setup. Merged t w o web stores with m igration of static content & B2B data , Endeca Search setup and automated CRON jobs integration . Resolved blockers issues of product catalog data, and critical issues of Go ogle Analyti cs , SSIS packages, map locator and Apache server. Involved in essential meetings with clients, lead and owner of be ta - live of project and worked on all s/w development processes. Research Intern , Bhabha Atomic Research Center, India - Development of De - noising Algorithm Using Wavelets to improve the efficiency of white noise filtering. Researched Fourier t ransform, wavelets and o btained Time - Frequency Ana lysis of de - noised signal for seismic data set using MATLAB . PROJECTS Information Retrieval and SPAM SMS Classification (Tools: Android Studio ) De veloped an android application to classify SPAM and HAM SMS using classification algorithm and preprocessing using stemming , tokenization and stop words removal. Employees Fl ight Risk Analysis (Tools : Weka, R, Tableau, and Excel ) Performed exploratory data analysis using Tableau and preprocessing techniques on data set using WEKA and R . Developed classification model using comparative analysis of data mining algorithms to give better accuracy based on Critical thinking concept. Finance Data Warehouse (Tools: Pentaho , SAS, MySQL Workbench) Designed star schema based on dimensional analysis data warehouse for sales information of a company . Performed ETL process using Pentaho, SAS and MySQL Workbench, and executed OLAP queries, aggregated data marts , slowly changing dimensions, business queries and many - to - many relationships using SQL to analyze sales and profit of organization . Stati s tical Analysis of correlation of d rug use with age ( Tools : Minitab ) Analyzed Nationa l survey data using stratified r andom sampling , correlation, regression and confidence interval . A p p ointment Management System (Technologies : PHP, Java, SOAP UI ) Built a web application of appoint ment system based on XML - RP C, SOAP and REST services with service & business layer , PHP Client . Customized Gifts E - commerce Website (Technologies : PHP, MySQL, CSS3, HTML, JavaScript) Developed an E - commerce website displaying customized gifts using PHP and MySQL database for back - end and CSS for front - end . Used MD5 encoding for passwords, sessions and cookies for add to cart and login functionalities and implemented admin operations. Stack Overflow Web Application (Technology: Java Servlets, JSP, MongoDB, and AWS EC2) D eveloped a web based search application for Stack overflow data with user comments functionality using JSP Servlets and MongoDB . Loaded multiple data files using MongoDB aggregation queries and hosted database server on AWS EC2 Cloud. PUBLICATIONS Co - author ed technical research paper Time Frequency Analysis of Continuous Signal Using Wavelet Transform published in International Journal of Current Engineering and Technology, Volume 4 (June 2014).'\n",
      "Forum Kapadia, b'1635/4 Crittenden way, Rochester NY 14623 F ORUM K APADIA (571) 528 - 2164 forumkapadia1 @gmail.com https://github.com/fjk9481 https://www.linkedin.com/in/forum - kapadia/ O BJECTIVE Seeking for a full - time position in the field of Computer Science. Additionally, to seek challenging assignments and responsibility, with an opportunity for growth and career advancement. ED U CATION Rochester Institute of Technology , Rochester NY May - 201 7 Master of Science , Computer Science . GPA: 3.20 /4.00 Courses : Foundation of Algorithms, Computer Network and Distributed Systems, Foundation of Computer Vision, Intelligent Systems and Security, Data Management, Data Security and Privacy, Cryptography. Thakur College of Engineering , Mumbai , India . June 201 4 Bachelor of Engineering, Computer Engineering . GPA: 3.4 0 /4.00 Thakur Polytechnic , Mumbai, India . June 2011 Diploma in Engineering, Computer Technology . GPA: 3.60/4.00 T ECHNICAL S KILLS Programming Languages: Java, C++, Matlab, JESS, WEKA T echnology Expertise: Data mining & Machine L earning, Artificial Intelligence, Rules - based models, G enetic algorithm , Distrib uted and parallel programming with MapReduce/ Java , Concurrent programming ( Multithreading ) D atabase & Web Development , Visualization : SQLite, MySQL , HTML5, CSS3, UML, R, Tableau O perating Systems/ Software/Tools: Linux( RedHat/Ubuntu ), Windows, Git, GitHub, Eclipse, vi, vim , WordPress, Visual Studio, JIRA PROFESSIONAL EXPERIENCE MIAC Analytics : Software Development Intern Aug 2016 Jan 2017 Updated the additional features such as buy up, buy down value, spread in loan calculation software (MarketShield 4.0) in C++ and C#. Responsible for updating the code changes through GIT and worked with JIRA and BitBucket . Debugging and fixing the loan calculation software project to fix minor GUI errors, connectivity with the database errors, an d dimensionality issues. Created softwa re that notifies recent file uploads by the clients to the server and integrates with SQL server P erinton Publishing : Software Development Intern J une 2016 Aug 201 6 Developed and tested a software tool in Java that displays a human - readable version of binary data for the mailing service. Developed a software in Java that automates the process of sending email status to the customers regarding their mailing projects. Created a web portal using WordPress for customers wanting to retrieve data on their projects. (mailtracker.us) Additionally, automated the file transfer process to the portal. PROJECTS Secure Payment Gateway: Implemented a three - tier architecture to secure e - commerce payment by considering major factors like confidentiality, integrity, availability, logging, and security policies. Moreover, encrypting the customers card details whi le transferring as well as storage using RSA algorithm . Technology: Oracle database server, Java NetBeans, JDBC driver. Hand Gesture Recognition: Developed an application that recognizes hand gestures in real time and compares it with the database to recognize the American sign language (ASL) alphabets. Techn ology : MATLAB Security Evaluation Expert System: Development of an Expert System that evaluates the security of the overall system and validates it against set of rules using JESS. It provides an overall ranking to the system by checking security related p arameters that can be vulnerable to an attack. Technology : Java, JESS, WEKA Distributed Web Crawlers: Developed a distributed web crawler, which enables multiple crawlers to crawl simultaneously on multiple webpages for web indexing along with Distributed Hash table. Technology : Java Frequent Pattern (FP) tree: Developed an FP - Tree algorithm for efficient data handling and finding frequent patterns for knowledge discovery and business intelligence. Technology : Java Speech - based Web Browser: Developed a web application, which uses Text to Speech (TTS) Engine for web accessibility to visually impaired Technology : C++, XHTML, CSS, SQL. T ECHNICAL R ESEARCH P APER Published a technical paper on in International Journal of Computer Applications (0975 8887, Volume: 2 No.3, 2013. P ublished a technical paper on Data warehousing and Mining International Journal of Data warehousing and Mining (2011) . E XTRA - C URRICULAR A CTIVITIES Teaching Assistant for Data Cleaning and preparation(CSCI - 721). Secretary of student council: leadership skills (2012 - 13) Council member of the student body of IEEE and National Social Service(NSS) unit .'\n",
      "Mansee_Jadhav_Resume, b\"ManseeJadhav Contact manseejadhav2@gmail.com linkedin.com/in/manseejadhav +1(424)270-4842 github.com/mansee8 Education UniversityofCalifornia,LosAngeles Sept.'15-Dec.'16 MastersofScienceinComputerScience;GPA:3.9 KJSomaiyaCollegeofEngineering,India Sept.'10-May'14 BachelorofEngineeringinComputerScience;GPA:4.0 Skills Languages :Java,Python,C/C++,R,SQL,HTML5,PHP,JavaScript,CSS Technologies :MySQL,Oracle,SAP,WordPress,AJAX,Behat,Mink,ApacheTomcat,XAMPP Experience Cisco SanJose,CA SoftwareEngineerIntern(CoreSoftwareDevelopmentGroup) Jun.'16-Sept.'16 DevelopedaJava(Android)applicationwhichproactivelypredictsanynonfunctionalAccessPointsbycalculating andmodelingvariousunderlyingnetworkparameterslikebandwidth,voicemetricsandvideostats. DigitalLibraryPowell,UCLA LosAngeles,CA ComputerResourceSpecialist Oct.'15-Jun.'16 DevelopedandmaintainedUCLALibrarywebsiteusingDrupal,JavascriptalongwithPHPandXAMPP. PerformedautomatedfunctionaltestingwithBehatandMink. Accenture Mumbai,India AssociateSoftwareEngineer,JavaDeveloper Aug.'14-Sept.'15 Kargil :Javaprojectbasedonbig-dataanalysisofAmexandVisatransactionsofusers. BHPBilliton :InternationalMiningProjectbasedonSAPHumanResourceDomain,whichhelpedmegain globalexposure,clientsideinteraction,leadershipqualitiesandmanagementskills. ModeledandengineeredphaseofAccenturetrainingprogramme,HeadStartFoundationProgramme (HSFP)whichincorporatedbasicunderstandingofJavaandOperatingSystems. Projects SocialCommunityFriendshipNetworkofFacebook&Google+ Mar.'16-Jun.'16 - EngineerednetworkpackagesinRtounderstandthesocialnetworkandgraphstructureofuserspersonalnetwork, thusexploringcommunityandmutualfriendshiprelationshipamongFacebookandGoogle+users. YelpDataReviews-HygieneViolations Mar.'16-Jun.'16 - TrainedandevaluatedmachinelearningmodelsbasedonYelpRestaurantReviewstoexamineandpredictthe healthviolationscoreofrestaurantstherebyfacilitatinghealthinspections. eBayWebApplication Jan.'16-Mar.'16 - DevelopedanonlineauctioneBaywebapplicationusingJava/JSP,MySQL,SOAPbased-webservicesand publishedit'sweb-servicesusingApacheTomcatandAxis2. - PerformedtextbasedindexingusingApacheLucenepackageandspatialindexingwithGoogleMaps. - EmployedSeleniumIDEforautomatingbrowsertests,andenabledsecuretransactionusingSSL,bycreatingsession enabledservlet. DiscoverFriends:EscapingMetadataLeakageinGroupCommunication Sept.'15-Dec.'15 - Deployedasecureandanonymousgroupcommunicationsystem, DiscoverFriends ,usingJava,whichprevented metadataleakageinsocialnetworkingsiteswithtrequest-responsetimes. AndroidBasedEmergencyServiceInformationProvider Sept.'13-Dec.'13 - DevelopedanAndroidappwhichonrequestprovidesdetailstothenearestemergencyserviceproviderswiththe helpoflocationbasedservices. - Managedgroupsforprovidingandinformationsharing. - MaintainedinformationsecuritywithinthegroupusingTomcatserver,JSP,phpMyAdminandJava. LibraryData-Warehousing Sept.'12-Dec.'12 - Developedadata-warehousetosupportvariouslibrary-relatedactivitiesbyusingMySQL(backend)and J2SE(frontend). Publications ESIP-PathUpdatesMadeEasier Mar.2014 InternationalJournalofAdvancedResearchinComputerandCommunicationEngineering Vol.3,Issue3. Honors &Awards Sir.RatanTataTrustMeritScholarshipforUndergraduateStudies 2010-2014 AwardedCash-PrizesforhighestgradeholdervariouscoursesduringUndergraduateStudies 2010-2014 BrandAmbassadorofIKnowVention(CProgrammingContest)HeldinMemoryofSteveJobs 2012\"\n",
      "VinayMore_Resume, b\"Vinay V asant More 88 Crittenden Way Apt 6 , Rochester, NY, 14623 ( 347) - 567 - 5902 | vm5533@rit.edu | LinkedIn : https://goo.gl/PXCthB www.vinaymore.com | Available f or Full - time positions from August | GitHub ID: vincurious EDUCATION: Rochester Institute of Technology - NY, USA (Graduation Date August ) GPA 3. 3 /4 Courses: Big Data Analytics , Distributed Systems , Machine learning , Graph Databases, Algorithms , Mobile Programming . University of Mumbai, VIT - Mumbai, India Bachelor of Com puter Engineering GPA 3.5/4 TECHNICAL SKILLS: Java, Python , Android , C/C++ , iOS - Swift , VBScript, SQL , DB2 , ETL, NoSQL - MongoDB , GraphDB - Neo4j , Spring, REST , JSON, SOAP , jQuery, XML , HTML5, CSS 3 , JavaScript , Node.js , Unix, Git , R - Hadoop , MapReduce, AWS , Design P atterns . WORK EXPERIENCE: R ochester I nstitute of T echnology , NY, USA Graduate Assistant (May 2016 May 2017 ) M anaging system administrator and lab manager roles to maintain network infrastructure of 300+ machines with different operating systems for 1000+ student, staff accounts and manage team of 18 lab assistants for all CS Department labs. IGATE , Bangalore, India (Now acquired by Capgemini) - Software Engineer (July 2012 June 2015) S oftware development & designing automa tion frameworks . Development of innovative utilities to automate business flows. Utilized skills Java , JavaScript, SQL, DB2, VBScript, Unit testing, ETL, DB maintenance & analysis . Key Projects with a team strength of 10 - 40 : ATM - Retail Payment System, Privat e Banking System , FATCA Validator for client Royal Bank of Canada . Self - initiated internal projects like Knowledge Repository, Universal masking tool . Venture - Google Play Link: http://bit.ly/2cuji0o P art time venture for publishing mobile app s . MendhiCoat android game with over 6 0000 downloads on Google Pla y. PROJECTS & HACKATHONS : ( For more details, please visit http://www.vinaymore.com/cv/project.html ) Big Data: Analyzing trends from crowd - sourced r eviews about businesses (Yelp), socia l data mining using R - Rattle, Color Reducer using Clustering , Text mining using Bag of Word s & n - gram, a nalyzing large files using MapReduce . Machine Learning & AI: Training MLP & decision trees, Logistic Regression , Implemented Uninformed & Heuristic search techniques like A* implementation with customized heuristics and AI algorithms like MiniMax . NoSQL & Graph Databases : Implemented subgraph matching algorithms like Gr a phQL , QuickSI with Java language on top of Neo4j . Extracted large data from MySQL & b uilt normalized schema s in Mo ngoDB by creating a Java process . D istributed Systems : iQdep f ramework open source contributions (middleware to facilitate end - user specified integration of servic es for dist ributed OS for Io T devices ) . Implemented D emand r esponse management in Smart Grid . Mumbai on Mobile: M obile app providing an alternative to Google's real - time traffic updates for Mumbai in 2011 . Ctrl+F Android App - Where you can search specific words in physical book in front of you by scanning the barcode . iOS Apps - Connect4 featured in Apple iOS App Challenge 2016 , Quote picker picks up the best quote for your picture. Virtual Reality hack based on Sustainability as a theme at BigRedHacks 2016 at Cornell University. AWARDS & INITIATIVES : Received Graduate Assistantship at Rochester Institute of Technology with 75% scholarship. Pat on the back award & Innovation Certificates from IGATE for demonstrating excellent implementation of ideas . Part of codeRIT , ha ckathon community at RIT and ACM (Association for Computing Machinery) student member . Citizenship Award for being an active core committee member of IGATE CSR body. CISE (Certified Information Security Expert) certification from Innobuzz Knowledge Solutions. (No : 0152166 - IN) Secured 2nd place in the C omputer S ociety of I Level - 3 Robotics event at Techmate - 2009. Selected for Senior Level Nati onal Astronomy Olympiad in 2006 .\"\n",
      "AMRUT SHENOY, b'AMRUT SHENOY 708 - 1, Park Point Dr . | Rochester, NY - 14623 | in.linkedin.com/in/amrutshn | aas2903@rit.edu |585 - 752 - 8978 Objective Seeking a Co - op position in the field of Software Development for Spring/Summer 2017 . Education MS, Computer Science, Rochester Institute of Technology (Aug 2015 Dec 2017 ) Big Data Analytics | Data - driven Knowledge Discovery | Foundations of Computer Networks | Foundations of Algorithms | Adv. Object - Oriented Programming Concepts | Adv. Computational Problem Solving | Foundations of Computer Vision Bachelor of Computer Engineering, University of Mumbai (Aug 2009 May 2013) Analysis of Algorithms & Design | Data Warehousing & Mining (ETL, OLAP) | Operating System | Comp uter Networks | Syste m Security Technical Skills Languages : Java, Python, JavaScript , C#, C++ Web Technologies : HTML5, CSS3 , PHP, .NET Version Control : GIT Database : MySQL, SQL Server, Oracle, MongoDB Tools : MATLAB, Eclipse, Weka, R, pyCharm, IntelliJ, Wireshark Software Engineering Concepts : Software Development Life Cycle, Process Models (Agile, Waterfall) Projects https://github.com/amrutshn Data Analysis for Impact Assessment System ( R/MATLAB ) ( Sep 2016 Dec 2016 ) - The main aim is to be to establish an algorithm on a n Impact Assessment System that would be able to detect direct impacts to the brain of an athlete. - Plan to implement Random Forest Decision Tree and Support Vector Machine (SVM) Classifier. Packet Analyzer (Java) (Sep 2016) - Captured data packets using Wireshark and analyzed them to identify and differentiate the underlying Internet P rotocol used by the packet such as TCP/IP, UDP and ICMP. - Displayed the Ethernet header fields of the captured frames. Printed the packets e ncapsulated in the IP datagra m. Crime Rate Analysis (Weka) (Mar 2016 May 2016) - Performed analysis on historical data of over 1.5 million reported crime cases and p redicted the possibility of occurrence of a crime in an area in a specific time interval. The dataset used was of real - time crime cases reported in Denver. - Built E - R model to identify potential attributes that contribute towards prediction of a crime . Digitize Yo ur Handwriting (MATLAB) (Mar 2016 May 2016) - Designed Optical Character Recognition(OCR) to identify handwritten text in an image. The program converted handwritten text to a digital document with an accuracy in the range of 80% - 85%. - Implemented Mahalanobis distance metric to differentiate between foreground and background pixels. Made use of correlation coefficients in order to compare handwritten text with built - in digital text. Negative values indicated large variance whereas higher positive values indicated high possibility of a match. Connect Four Field Game (Java) (Oct 2015 Dec 2015) - Developed a multiplayer Connect Four Field game in Java. The game could be played b y multiple players co nnected in the same network. The game ends when either any one of the player wins the game or when all the moves gets exhausted. - Made use of MVC architecture to implement a modelled architecture of programming. Implemented the game usi ng TCP/IP protocol. Also implemented similar version of the game using UDP and RMI protocol s . Work Experience Assistant Systems Engineer at Tata Consultancy Services Limited (Jan 2014 Jun 2015) - Developed a module of online multiplex ticket booking system for an internal project using C# and .NET framework. - Worked on an Industry Standard Learning Management System (Moodle) as developer. - Developed interactive learning and training management modules for Baxter Healthcare using Adobe Captivate and Moodle LMS . Certification - Published a research paper titled Design of voice based PC control for blind people in Inter national Journal of Engineering Research & Applications (IJERA) in March 2012. ISSN 2248 - 9622. - HTML, CSS and JavaSc ript Certification from The Hon g Kong University in July 2016 . License Number - 3YNG7KT3PZTU - Industrial Sum mer Training in Ethical Hacking & Penetration Testing by Kyrio n Digital Securities Limited in June 2012 . - Attended a certified seminar on Android Application Programmer from IIT Kharagpur in May 2012.'\n",
      "Nisha_Bhanushali_Resume, b'Nisha Bhanushalinnb7791@g.rit.edu 585-363-8548 nishabhanushali nisha05 Education Master in Computer Science | GPA: 3.07/4.0 ! Rochester Institute of Technology; Rochester, NY  Aug 15 - Dec 17 ! Data Structures and Algorithms, Big Data Analytics, Data Cleaning and Preparation, Web Services, Distributed Systems, Computer Networks Bachelor of Computer Engineering | GPA: 3.5/4.0 ! University of Mumbai, Mumbai, India  Aug 11 - May 15 ! Analysis of Algorithms, Articial Intelligence, Data Warehouse and Mining, Operating Systems Experience Graduate Student Grader Rochester Institute of Technology, New York  Jan 17 - Present (BIG DATA ANALYTICS, DATA COMMUNICATION AND NETWORKS) Tutoring students with their respective course work to enhance their knowledge. Assist professor to design and grade assignments, projects and quizzes. Projects Product Search at Nearest SuperMarket - HTML5/CSS, Javascript, Jquery Developed a web application to locate the nearest supermarkets for a product and display the shortest distance to reach it. Invoked web services using SOAP based & RESTful services to parse the response in JSON format. Stackoverow Question Tags Analysis - Python, R, Weka Performed text mining to visualize the trends of different question tags. Built a robust model to predict the total number of responders and earliest response time to answer a poste d questions. Diabetic Patients Data Analysis - Python, Weka \"\"\"\"\"\"\"\"\" ! Used data mining algorithms to discern characteristics of the diabetic patients. The resultant model predicts whether a patient would be readmitted to the hospital within 30 days or not. Hotel Advisory - Java, Android Built an android application which suggests the top hotels in a city and provides feedback for the hotel based on the reviews given by the people. Performed Sentiment analysis using Naive Bayes supervised learning algorithm. !Distributed Map Reduce Architecture - Java, Network Programming Built a map-reduce framework for heavy computations which allows processing large data les by job tracker(master) who balances the load among the distributed slave nodes TCP Congestion Control Flavors - Java ! Implemented & Compared TCP Reno, Tahoe, Go-Back-N and Stop-N-Wait congestion control approaches with object oriented programming. File Sharing System - Java, Network Programming Developed a le sharing system for insertion, deletion, retrieval and tracking of the les in a peer-to-peer network based on Chord architecture. Skills Programming Languages - Python, Java, R, HTML5, CSS, XML, SQL, Javascript, Jquery! Operating System - Linux, Mac OS, Android, Windows ! Data libraries - pandas, matplotlib, Numpy ! Databases - Microsoft SQL, PostgreSQL, Oracl e Tools - Tableau, Eclipse, PyCharm, Weka, Gradle, Junit, Log4j, SOAP ! Publications Impact of Hello Interval on Performance of AODV protocol , International Journal of ! Computer Applications, 2015.'\n"
     ]
    }
   ],
   "source": [
    "def viewDB():\n",
    "    con = mongo.MongoClient(host='127.0.0.1', port=3001)\n",
    "    db = con['meteor']\n",
    "    resume_test = db['resume_test']\n",
    "    result = resume_test.find()\n",
    "#     print(\"Result :\" , result)\n",
    "    for record in result:\n",
    "    # print out the document\n",
    "#         print(\"Hellloooo..........\")\n",
    "        print(record['Name'] + ',',record['Content'])\n",
    "viewDB()   "
   ]
  },
  {
   "cell_type": "code",
   "execution_count": null,
   "metadata": {
    "collapsed": true
   },
   "outputs": [],
   "source": []
  }
 ],
 "metadata": {
  "kernelspec": {
   "display_name": "Python 3",
   "language": "python",
   "name": "python3"
  },
  "language_info": {
   "codemirror_mode": {
    "name": "ipython",
    "version": 3
   },
   "file_extension": ".py",
   "mimetype": "text/x-python",
   "name": "python",
   "nbconvert_exporter": "python",
   "pygments_lexer": "ipython3",
   "version": "3.6.1"
  }
 },
 "nbformat": 4,
 "nbformat_minor": 2
}
